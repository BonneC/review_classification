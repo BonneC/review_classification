{
 "cells": [
  {
   "cell_type": "code",
   "execution_count": 1,
   "id": "hired-expression",
   "metadata": {},
   "outputs": [],
   "source": [
    "import pandas as pd\n",
    "import numpy as np\n",
    "import matplotlib.pyplot as plt\n",
    "import seaborn as sns\n",
    "import plotly.express as px\n",
    "\n",
    "sns.set()"
   ]
  },
  {
   "cell_type": "code",
   "execution_count": 2,
   "id": "thorough-franklin",
   "metadata": {},
   "outputs": [],
   "source": [
    "train = pd.read_csv('datasets/train.csv')\n",
    "X_train = train.drop(['y'], axis=1)\n",
    "y_train = train['y']"
   ]
  },
  {
   "cell_type": "code",
   "execution_count": 3,
   "id": "collected-brazilian",
   "metadata": {},
   "outputs": [
    {
     "data": {
      "text/plain": [
       "(800, 300)"
      ]
     },
     "execution_count": 3,
     "metadata": {},
     "output_type": "execute_result"
    }
   ],
   "source": [
    "tmp = X_train.dropna()\n",
    "tmp.shape"
   ]
  },
  {
   "cell_type": "code",
   "execution_count": 4,
   "id": "injured-april",
   "metadata": {},
   "outputs": [],
   "source": [
    "test = pd.read_csv('datasets/test.csv')\n",
    "X_test = test.drop(['y'], axis=1)\n",
    "y_test = test['y']"
   ]
  },
  {
   "cell_type": "code",
   "execution_count": 12,
   "id": "imperial-gazette",
   "metadata": {},
   "outputs": [],
   "source": [
    "from sklearn.metrics import confusion_matrix, accuracy_score, recall_score, precision_score\n",
    "from sklearn.linear_model import SGDClassifier\n",
    "from sklearn.svm import LinearSVC,SVC\n",
    "\n",
    "from sklearn.model_selection import GridSearchCV\n",
    "from sklearn.pipeline import Pipeline"
   ]
  },
  {
   "cell_type": "code",
   "execution_count": 19,
   "id": "hungarian-rolling",
   "metadata": {},
   "outputs": [],
   "source": [
    "parameters1 = {'model__C': [1, 10, 100, 1000], \n",
    "              'model__kernel': ['linear']},\n",
    " \n",
    "\n",
    "parameters2 = {\n",
    "    'model__C': [1, 10, 100, 1000], \n",
    "    'model__gamma': [0.001, 0.0001],\n",
    "    'model__kernel': ['rbf']},\n",
    " \n",
    "\n",
    "my_pipeline = Pipeline(steps=[('model', SVC(random_state=42))])"
   ]
  },
  {
   "cell_type": "code",
   "execution_count": 20,
   "id": "animated-jacket",
   "metadata": {},
   "outputs": [
    {
     "data": {
      "text/plain": [
       "Pipeline(steps=[('model', SVC(C=1, kernel='linear', random_state=42))])"
      ]
     },
     "execution_count": 20,
     "metadata": {},
     "output_type": "execute_result"
    }
   ],
   "source": [
    "grid_logreg = GridSearchCV(my_pipeline, parameters1, n_jobs=-1,scoring='accuracy')\n",
    "grid_logreg.fit(X_train, y_train)\n",
    "grid_logreg.best_estimator_"
   ]
  },
  {
   "cell_type": "code",
   "execution_count": 21,
   "id": "confused-response",
   "metadata": {},
   "outputs": [
    {
     "data": {
      "text/plain": [
       "Pipeline(steps=[('model', SVC(C=1000, gamma=0.001, random_state=42))])"
      ]
     },
     "execution_count": 21,
     "metadata": {},
     "output_type": "execute_result"
    }
   ],
   "source": [
    "grid_logreg = GridSearchCV(my_pipeline, parameters2, n_jobs=-1,scoring='accuracy')\n",
    "grid_logreg.fit(X_train, y_train)\n",
    "grid_logreg.best_estimator_"
   ]
  },
  {
   "cell_type": "code",
   "execution_count": 26,
   "id": "helpful-regular",
   "metadata": {},
   "outputs": [
    {
     "name": "stdout",
     "output_type": "stream",
     "text": [
      "Model test accuracy: 85.500%\n"
     ]
    }
   ],
   "source": [
    "svc1 = SVC(random_state=42,C=1, kernel='linear',probability=True)\n",
    "svc1.fit(X_train, y_train)\n",
    "\n",
    "print(f'Model test accuracy: {svc1.score(X_test, y_test)*100:.3f}%')"
   ]
  },
  {
   "cell_type": "code",
   "execution_count": 24,
   "id": "progressive-planner",
   "metadata": {},
   "outputs": [
    {
     "name": "stdout",
     "output_type": "stream",
     "text": [
      "Model test accuracy: 83.500%\n"
     ]
    }
   ],
   "source": [
    "svc2 = SVC(random_state=42, kernel='rbf',C=1000, gamma=0.001)\n",
    "svc2.fit(X_train, y_train)\n",
    "\n",
    "print(f'Model test accuracy: {svc2.score(X_test, y_test)*100:.3f}%')"
   ]
  },
  {
   "cell_type": "code",
   "execution_count": 27,
   "id": "periodic-jordan",
   "metadata": {},
   "outputs": [],
   "source": [
    "# save LINEAR model\n",
    "\n",
    "# import pickle \n",
    "# filename = 'models/svc_model.sav'\n",
    "# pickle.dump(svc1, open(filename, 'wb'))"
   ]
  },
  {
   "cell_type": "code",
   "execution_count": null,
   "id": "adjusted-sullivan",
   "metadata": {},
   "outputs": [],
   "source": []
  }
 ],
 "metadata": {
  "kernelspec": {
   "display_name": "thesis",
   "language": "python",
   "name": "thesis"
  },
  "language_info": {
   "codemirror_mode": {
    "name": "ipython",
    "version": 3
   },
   "file_extension": ".py",
   "mimetype": "text/x-python",
   "name": "python",
   "nbconvert_exporter": "python",
   "pygments_lexer": "ipython3",
   "version": "3.7.10"
  }
 },
 "nbformat": 4,
 "nbformat_minor": 5
}

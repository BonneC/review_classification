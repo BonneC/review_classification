{
 "cells": [
  {
   "cell_type": "code",
   "execution_count": 2,
   "id": "changed-electronics",
   "metadata": {},
   "outputs": [],
   "source": [
    "import pandas as pd\n",
    "import numpy as np\n",
    "import matplotlib.pyplot as plt\n",
    "import seaborn as sns\n",
    "import plotly.express as px\n",
    "import spacy\n",
    "import pickle\n",
    "\n",
    "sns.set()"
   ]
  },
  {
   "cell_type": "code",
   "execution_count": 11,
   "id": "planned-university",
   "metadata": {},
   "outputs": [],
   "source": [
    "linear_model = pickle.load(open('models/linear_model.sav', 'rb'))\n",
    "# result = loaded_model.score(X_test, Y_test)"
   ]
  },
  {
   "cell_type": "code",
   "execution_count": 37,
   "id": "controversial-hierarchy",
   "metadata": {},
   "outputs": [],
   "source": [
    "import xgboost as xgb\n",
    "\n",
    "xgb_model = pickle.load(open('models/xgb_model.sav', 'rb'))"
   ]
  },
  {
   "cell_type": "code",
   "execution_count": 7,
   "id": "liquid-astrology",
   "metadata": {},
   "outputs": [],
   "source": [
    "nlp = spacy.load(\"en_core_web_lg\")"
   ]
  },
  {
   "cell_type": "code",
   "execution_count": 13,
   "id": "centered-fraction",
   "metadata": {},
   "outputs": [],
   "source": [
    "def vectorizer(text):\n",
    "    with nlp.disable_pipes():\n",
    "        vector = np.array(nlp(text).vector)\n",
    "    return vector"
   ]
  },
  {
   "cell_type": "code",
   "execution_count": 33,
   "id": "photographic-masters",
   "metadata": {},
   "outputs": [
    {
     "data": {
      "text/plain": [
       "array([1], dtype=int64)"
      ]
     },
     "execution_count": 33,
     "metadata": {},
     "output_type": "execute_result"
    }
   ],
   "source": [
    "good_review = \"I like this restaurant\"\n",
    "df = pd.DataFrame(vectorizer(good_review).reshape(1,-1))\n",
    "\n",
    "\n",
    "linear_model.predict(df)"
   ]
  },
  {
   "cell_type": "code",
   "execution_count": 38,
   "id": "exclusive-grounds",
   "metadata": {},
   "outputs": [
    {
     "data": {
      "text/plain": [
       "array([[0.29955024, 0.70044976]], dtype=float32)"
      ]
     },
     "execution_count": 38,
     "metadata": {},
     "output_type": "execute_result"
    }
   ],
   "source": [
    "xgb_model.predict_proba(df)\n",
    "\n",
    "# 70% certainty for the positive review"
   ]
  },
  {
   "cell_type": "code",
   "execution_count": 39,
   "id": "universal-entrepreneur",
   "metadata": {},
   "outputs": [],
   "source": [
    "bad_review = \"I don't like this restaurant\"\n",
    "df = pd.DataFrame(vectorizer(bad_review).reshape(1,-1))"
   ]
  },
  {
   "cell_type": "code",
   "execution_count": 40,
   "id": "driving-appeal",
   "metadata": {},
   "outputs": [
    {
     "data": {
      "text/plain": [
       "array([0], dtype=int64)"
      ]
     },
     "execution_count": 40,
     "metadata": {},
     "output_type": "execute_result"
    }
   ],
   "source": [
    "linear_model.predict(df)"
   ]
  },
  {
   "cell_type": "code",
   "execution_count": 41,
   "id": "executed-richmond",
   "metadata": {},
   "outputs": [
    {
     "data": {
      "text/plain": [
       "array([[0.9168325 , 0.08316747]], dtype=float32)"
      ]
     },
     "execution_count": 41,
     "metadata": {},
     "output_type": "execute_result"
    }
   ],
   "source": [
    "xgb_model.predict_proba(df)\n",
    "\n",
    "# 90% certainty for the negative review"
   ]
  },
  {
   "cell_type": "code",
   "execution_count": 43,
   "id": "suspected-israel",
   "metadata": {},
   "outputs": [],
   "source": [
    "bad_review2 = \"Had to wait 2 hours to get my order\"\n",
    "df = pd.DataFrame(vectorizer(bad_review2).reshape(1,-1))"
   ]
  },
  {
   "cell_type": "code",
   "execution_count": 44,
   "id": "olive-aside",
   "metadata": {},
   "outputs": [
    {
     "data": {
      "text/plain": [
       "array([[0.9428635 , 0.05713649]], dtype=float32)"
      ]
     },
     "execution_count": 44,
     "metadata": {},
     "output_type": "execute_result"
    }
   ],
   "source": [
    "xgb_model.predict_proba(df)"
   ]
  },
  {
   "cell_type": "code",
   "execution_count": null,
   "id": "angry-lafayette",
   "metadata": {},
   "outputs": [],
   "source": []
  }
 ],
 "metadata": {
  "kernelspec": {
   "display_name": "thesis",
   "language": "python",
   "name": "thesis"
  },
  "language_info": {
   "codemirror_mode": {
    "name": "ipython",
    "version": 3
   },
   "file_extension": ".py",
   "mimetype": "text/x-python",
   "name": "python",
   "nbconvert_exporter": "python",
   "pygments_lexer": "ipython3",
   "version": "3.7.10"
  }
 },
 "nbformat": 4,
 "nbformat_minor": 5
}

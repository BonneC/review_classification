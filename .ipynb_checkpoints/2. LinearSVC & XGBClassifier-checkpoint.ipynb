{
 "cells": [
  {
   "cell_type": "code",
   "execution_count": 1,
   "id": "creative-highlight",
   "metadata": {},
   "outputs": [],
   "source": [
    "import pandas as pd\n",
    "import numpy as np\n",
    "import matplotlib.pyplot as plt\n",
    "import seaborn as sns\n",
    "import plotly.express as px\n",
    "\n",
    "sns.set()"
   ]
  },
  {
   "cell_type": "code",
   "execution_count": 2,
   "id": "basic-stevens",
   "metadata": {},
   "outputs": [],
   "source": [
    "train = pd.read_csv('datasets/train.csv')\n",
    "X_train = train.drop(['y'], axis=1)\n",
    "y_train = train['y']"
   ]
  },
  {
   "cell_type": "code",
   "execution_count": 3,
   "id": "guided-marks",
   "metadata": {
    "scrolled": true
   },
   "outputs": [
    {
     "data": {
      "text/plain": [
       "(800, 300)"
      ]
     },
     "execution_count": 3,
     "metadata": {},
     "output_type": "execute_result"
    }
   ],
   "source": [
    "tmp = X_train.dropna()\n",
    "tmp.shape"
   ]
  },
  {
   "cell_type": "code",
   "execution_count": 4,
   "id": "ceeb6431",
   "metadata": {
    "scrolled": true
   },
   "outputs": [
    {
     "data": {
      "text/html": [
       "<div>\n",
       "<style scoped>\n",
       "    .dataframe tbody tr th:only-of-type {\n",
       "        vertical-align: middle;\n",
       "    }\n",
       "\n",
       "    .dataframe tbody tr th {\n",
       "        vertical-align: top;\n",
       "    }\n",
       "\n",
       "    .dataframe thead th {\n",
       "        text-align: right;\n",
       "    }\n",
       "</style>\n",
       "<table border=\"1\" class=\"dataframe\">\n",
       "  <thead>\n",
       "    <tr style=\"text-align: right;\">\n",
       "      <th></th>\n",
       "      <th>0</th>\n",
       "      <th>1</th>\n",
       "      <th>2</th>\n",
       "      <th>3</th>\n",
       "      <th>4</th>\n",
       "      <th>5</th>\n",
       "      <th>6</th>\n",
       "      <th>7</th>\n",
       "      <th>8</th>\n",
       "      <th>9</th>\n",
       "      <th>...</th>\n",
       "      <th>290</th>\n",
       "      <th>291</th>\n",
       "      <th>292</th>\n",
       "      <th>293</th>\n",
       "      <th>294</th>\n",
       "      <th>295</th>\n",
       "      <th>296</th>\n",
       "      <th>297</th>\n",
       "      <th>298</th>\n",
       "      <th>299</th>\n",
       "    </tr>\n",
       "  </thead>\n",
       "  <tbody>\n",
       "    <tr>\n",
       "      <th>0</th>\n",
       "      <td>-0.112187</td>\n",
       "      <td>-0.100663</td>\n",
       "      <td>0.157640</td>\n",
       "      <td>-0.158397</td>\n",
       "      <td>0.027242</td>\n",
       "      <td>0.205997</td>\n",
       "      <td>-0.060770</td>\n",
       "      <td>-0.126120</td>\n",
       "      <td>-0.010197</td>\n",
       "      <td>1.938914</td>\n",
       "      <td>...</td>\n",
       "      <td>0.028738</td>\n",
       "      <td>0.168101</td>\n",
       "      <td>-0.145711</td>\n",
       "      <td>-0.057940</td>\n",
       "      <td>0.036196</td>\n",
       "      <td>0.005334</td>\n",
       "      <td>-0.155556</td>\n",
       "      <td>-0.088095</td>\n",
       "      <td>0.053760</td>\n",
       "      <td>-0.105121</td>\n",
       "    </tr>\n",
       "    <tr>\n",
       "      <th>1</th>\n",
       "      <td>0.050178</td>\n",
       "      <td>0.075225</td>\n",
       "      <td>-0.081901</td>\n",
       "      <td>-0.156637</td>\n",
       "      <td>0.309195</td>\n",
       "      <td>0.138448</td>\n",
       "      <td>0.097845</td>\n",
       "      <td>-0.196484</td>\n",
       "      <td>-0.112587</td>\n",
       "      <td>1.904721</td>\n",
       "      <td>...</td>\n",
       "      <td>0.054563</td>\n",
       "      <td>0.024540</td>\n",
       "      <td>-0.061007</td>\n",
       "      <td>0.080689</td>\n",
       "      <td>-0.044674</td>\n",
       "      <td>-0.041743</td>\n",
       "      <td>0.149788</td>\n",
       "      <td>-0.144391</td>\n",
       "      <td>0.001133</td>\n",
       "      <td>0.099821</td>\n",
       "    </tr>\n",
       "    <tr>\n",
       "      <th>2</th>\n",
       "      <td>-0.014288</td>\n",
       "      <td>0.281363</td>\n",
       "      <td>0.008330</td>\n",
       "      <td>-0.079762</td>\n",
       "      <td>0.136387</td>\n",
       "      <td>0.115963</td>\n",
       "      <td>0.188574</td>\n",
       "      <td>-0.199307</td>\n",
       "      <td>0.059242</td>\n",
       "      <td>2.212164</td>\n",
       "      <td>...</td>\n",
       "      <td>0.021324</td>\n",
       "      <td>0.001395</td>\n",
       "      <td>0.208336</td>\n",
       "      <td>0.063314</td>\n",
       "      <td>0.063109</td>\n",
       "      <td>0.012527</td>\n",
       "      <td>0.202568</td>\n",
       "      <td>0.060613</td>\n",
       "      <td>-0.041538</td>\n",
       "      <td>0.000968</td>\n",
       "    </tr>\n",
       "    <tr>\n",
       "      <th>3</th>\n",
       "      <td>-0.059194</td>\n",
       "      <td>0.202854</td>\n",
       "      <td>-0.181835</td>\n",
       "      <td>-0.101376</td>\n",
       "      <td>0.071907</td>\n",
       "      <td>0.070034</td>\n",
       "      <td>0.096419</td>\n",
       "      <td>-0.221772</td>\n",
       "      <td>0.060945</td>\n",
       "      <td>2.344045</td>\n",
       "      <td>...</td>\n",
       "      <td>-0.080323</td>\n",
       "      <td>0.090762</td>\n",
       "      <td>-0.147289</td>\n",
       "      <td>-0.047359</td>\n",
       "      <td>0.033544</td>\n",
       "      <td>0.048062</td>\n",
       "      <td>-0.039295</td>\n",
       "      <td>-0.086601</td>\n",
       "      <td>0.074375</td>\n",
       "      <td>0.093446</td>\n",
       "    </tr>\n",
       "    <tr>\n",
       "      <th>4</th>\n",
       "      <td>0.038611</td>\n",
       "      <td>0.196760</td>\n",
       "      <td>-0.046412</td>\n",
       "      <td>-0.069246</td>\n",
       "      <td>0.186514</td>\n",
       "      <td>0.100383</td>\n",
       "      <td>0.068199</td>\n",
       "      <td>-0.216013</td>\n",
       "      <td>0.034067</td>\n",
       "      <td>2.568400</td>\n",
       "      <td>...</td>\n",
       "      <td>-0.160048</td>\n",
       "      <td>0.083787</td>\n",
       "      <td>0.021050</td>\n",
       "      <td>0.003260</td>\n",
       "      <td>0.148554</td>\n",
       "      <td>-0.067018</td>\n",
       "      <td>0.084592</td>\n",
       "      <td>0.028033</td>\n",
       "      <td>0.063388</td>\n",
       "      <td>0.050162</td>\n",
       "    </tr>\n",
       "  </tbody>\n",
       "</table>\n",
       "<p>5 rows × 300 columns</p>\n",
       "</div>"
      ],
      "text/plain": [
       "          0         1         2         3         4         5         6  \\\n",
       "0 -0.112187 -0.100663  0.157640 -0.158397  0.027242  0.205997 -0.060770   \n",
       "1  0.050178  0.075225 -0.081901 -0.156637  0.309195  0.138448  0.097845   \n",
       "2 -0.014288  0.281363  0.008330 -0.079762  0.136387  0.115963  0.188574   \n",
       "3 -0.059194  0.202854 -0.181835 -0.101376  0.071907  0.070034  0.096419   \n",
       "4  0.038611  0.196760 -0.046412 -0.069246  0.186514  0.100383  0.068199   \n",
       "\n",
       "          7         8         9  ...       290       291       292       293  \\\n",
       "0 -0.126120 -0.010197  1.938914  ...  0.028738  0.168101 -0.145711 -0.057940   \n",
       "1 -0.196484 -0.112587  1.904721  ...  0.054563  0.024540 -0.061007  0.080689   \n",
       "2 -0.199307  0.059242  2.212164  ...  0.021324  0.001395  0.208336  0.063314   \n",
       "3 -0.221772  0.060945  2.344045  ... -0.080323  0.090762 -0.147289 -0.047359   \n",
       "4 -0.216013  0.034067  2.568400  ... -0.160048  0.083787  0.021050  0.003260   \n",
       "\n",
       "        294       295       296       297       298       299  \n",
       "0  0.036196  0.005334 -0.155556 -0.088095  0.053760 -0.105121  \n",
       "1 -0.044674 -0.041743  0.149788 -0.144391  0.001133  0.099821  \n",
       "2  0.063109  0.012527  0.202568  0.060613 -0.041538  0.000968  \n",
       "3  0.033544  0.048062 -0.039295 -0.086601  0.074375  0.093446  \n",
       "4  0.148554 -0.067018  0.084592  0.028033  0.063388  0.050162  \n",
       "\n",
       "[5 rows x 300 columns]"
      ]
     },
     "execution_count": 4,
     "metadata": {},
     "output_type": "execute_result"
    }
   ],
   "source": [
    "X_train.head()"
   ]
  },
  {
   "cell_type": "code",
   "execution_count": 5,
   "id": "early-validation",
   "metadata": {},
   "outputs": [],
   "source": [
    "test = pd.read_csv('datasets/test.csv')\n",
    "X_test = test.drop(['y'], axis=1)\n",
    "y_test = test['y']"
   ]
  },
  {
   "cell_type": "code",
   "execution_count": 6,
   "id": "australian-czech",
   "metadata": {},
   "outputs": [],
   "source": [
    "from sklearn.metrics import confusion_matrix, accuracy_score, recall_score, precision_score\n",
    "from sklearn.linear_model import SGDClassifier\n",
    "from sklearn.svm import LinearSVC\n",
    "\n",
    "from sklearn.model_selection import GridSearchCV\n",
    "from sklearn.pipeline import Pipeline"
   ]
  },
  {
   "cell_type": "code",
   "execution_count": 121,
   "id": "lonely-architecture",
   "metadata": {},
   "outputs": [],
   "source": [
    "# parameters = {\n",
    "#     \"model__penalty\":['l2','l1'],\n",
    "#     \"model__C\":[0.001, 0.01, 0.1, 1, 10, 100, 1000, 10000]}\n",
    "\n",
    "# my_pipeline = Pipeline(steps=[('model', LinearSVC(random_state=42,\n",
    "                                                           \n",
    "#                                                           dual=False))])"
   ]
  },
  {
   "cell_type": "code",
   "execution_count": 122,
   "id": "disciplinary-comment",
   "metadata": {},
   "outputs": [
    {
     "data": {
      "text/plain": [
       "Pipeline(steps=[('model', LinearSVC(C=0.1, dual=False, random_state=42))])"
      ]
     },
     "execution_count": 122,
     "metadata": {},
     "output_type": "execute_result"
    }
   ],
   "source": [
    "# grid_logreg = GridSearchCV(my_pipeline, parameters, n_jobs=-1,scoring='accuracy')\n",
    "# grid_logreg.fit(X_train, y_train)\n",
    "# grid_logreg.best_estimator_"
   ]
  },
  {
   "cell_type": "markdown",
   "id": "9d89ebbe",
   "metadata": {},
   "source": [
    "### LinearSVC"
   ]
  },
  {
   "cell_type": "code",
   "execution_count": 22,
   "id": "radio-football",
   "metadata": {},
   "outputs": [
    {
     "data": {
      "text/plain": [
       "LinearSVC(dual=False, random_state=42)"
      ]
     },
     "execution_count": 22,
     "metadata": {},
     "output_type": "execute_result"
    }
   ],
   "source": [
    "linear_model = LinearSVC(random_state=42,dual=False,penalty='l2')\n",
    "linear_model.fit(X_train, y_train)"
   ]
  },
  {
   "cell_type": "code",
   "execution_count": 23,
   "id": "attached-emission",
   "metadata": {},
   "outputs": [
    {
     "name": "stdout",
     "output_type": "stream",
     "text": [
      "Model test accuracy: 83.500%\n"
     ]
    }
   ],
   "source": [
    "# linear model accuracy\n",
    "print(f'Model test accuracy: {linear_model.score(X_test, y_test)*100:.3f}%')"
   ]
  },
  {
   "cell_type": "code",
   "execution_count": 24,
   "id": "acknowledged-wayne",
   "metadata": {},
   "outputs": [],
   "source": [
    "from sklearn.metrics import classification_report, confusion_matrix\n",
    "def confusion_plot(predictions_def):\n",
    "    \n",
    "    cf_matrix = confusion_matrix(y_test, predictions_def)\n",
    "    group_names = ['True Neg','False Pos','False Neg','True Pos']\n",
    "\n",
    "    group_counts = [\"{0:0.0f}\".format(value) for value in\n",
    "                    cf_matrix.flatten()]\n",
    "    group_percentages = [\"{0:.2%}\".format(value) for value in\n",
    "                         cf_matrix.flatten()/np.sum(cf_matrix)]\n",
    "\n",
    "    labels = [f\"{v1}\\n{v2}\\n{v3}\" for v1, v2, v3 in\n",
    "              zip(group_names,group_counts,group_percentages)]\n",
    "    labels = np.asarray(labels).reshape(2,2)\n",
    "    categories=['Bad review', 'Good review']\n",
    "\n",
    "    fig, ax1 = plt.subplots(1, 1,figsize=(10,6))\n",
    "    sns.heatmap(cf_matrix, annot=labels, fmt='', cmap='Blues',xticklabels=categories,\n",
    "                yticklabels=categories,ax=ax1)\n",
    "\n",
    "    \n",
    "    plt.suptitle(\"CONFUSION MATRIX\")"
   ]
  },
  {
   "cell_type": "code",
   "execution_count": 25,
   "id": "vital-click",
   "metadata": {},
   "outputs": [
    {
     "data": {
      "image/png": "[encoded data removed]",
      "text/plain": [
       "<Figure size 720x432 with 2 Axes>"
      ]
     },
     "metadata": {},
     "output_type": "display_data"
    }
   ],
   "source": [
    "# confusion matrix for linear svm\n",
    "predictions = linear_model.predict(X_test)\n",
    "confusion_plot(predictions)"
   ]
  },
  {
   "cell_type": "code",
   "execution_count": 26,
   "id": "significant-murray",
   "metadata": {},
   "outputs": [],
   "source": [
    "# save LINEAR model\n",
    "\n",
    "import pickle \n",
    "filename = 'models/linear_model.sav'\n",
    "pickle.dump(linear_model, open(filename, 'wb'))"
   ]
  },
  {
   "cell_type": "markdown",
   "id": "3a0f8035",
   "metadata": {},
   "source": [
    "### XGBCLASSIFIER"
   ]
  },
  {
   "cell_type": "code",
   "execution_count": 27,
   "id": "patent-boost",
   "metadata": {},
   "outputs": [],
   "source": [
    "from xgboost import XGBClassifier"
   ]
  },
  {
   "cell_type": "code",
   "execution_count": null,
   "id": "excess-import",
   "metadata": {},
   "outputs": [],
   "source": [
    "# finding best parameters\n",
    "parameters_XG = {\n",
    "    \"model__n_estimators\":[100,200,400,500,700,1000],\n",
    "    \"model__learning_rate\":[0.01,0.02,0.05,0.07,0.1]}\n",
    "\n",
    "my_pipeline_XG = Pipeline(steps=[('model', XGBClassifier(random_state=42))])"
   ]
  },
  {
   "cell_type": "code",
   "execution_count": 29,
   "id": "fitted-reserve",
   "metadata": {
    "collapsed": true
   },
   "outputs": [
    {
     "ename": "KeyboardInterrupt",
     "evalue": "",
     "output_type": "error",
     "traceback": [
      "\u001b[0;31m---------------------------------------------------------------------------\u001b[0m",
      "\u001b[0;31mKeyboardInterrupt\u001b[0m                         Traceback (most recent call last)",
      "\u001b[0;32m<ipython-input-29-b3cdd3941e09>\u001b[0m in \u001b[0;36m<module>\u001b[0;34m\u001b[0m\n\u001b[1;32m      1\u001b[0m \u001b[0mxgb\u001b[0m \u001b[0;34m=\u001b[0m \u001b[0mGridSearchCV\u001b[0m\u001b[0;34m(\u001b[0m\u001b[0mmy_pipeline_XG\u001b[0m\u001b[0;34m,\u001b[0m \u001b[0mparameters_XG\u001b[0m\u001b[0;34m,\u001b[0m \u001b[0mn_jobs\u001b[0m\u001b[0;34m=\u001b[0m\u001b[0;34m-\u001b[0m\u001b[0;36m1\u001b[0m\u001b[0;34m)\u001b[0m\u001b[0;34m\u001b[0m\u001b[0;34m\u001b[0m\u001b[0m\n\u001b[0;32m----> 2\u001b[0;31m \u001b[0mxgb\u001b[0m\u001b[0;34m.\u001b[0m\u001b[0mfit\u001b[0m\u001b[0;34m(\u001b[0m\u001b[0mX_train\u001b[0m\u001b[0;34m,\u001b[0m \u001b[0my_train\u001b[0m\u001b[0;34m)\u001b[0m\u001b[0;34m\u001b[0m\u001b[0;34m\u001b[0m\u001b[0m\n\u001b[0m\u001b[1;32m      3\u001b[0m \u001b[0mxgb\u001b[0m\u001b[0;34m.\u001b[0m\u001b[0mbest_params_\u001b[0m\u001b[0;34m\u001b[0m\u001b[0;34m\u001b[0m\u001b[0m\n",
      "\u001b[0;32m~/anaconda3/envs/loka_review/lib/python3.7/site-packages/sklearn/utils/validation.py\u001b[0m in \u001b[0;36minner_f\u001b[0;34m(*args, **kwargs)\u001b[0m\n\u001b[1;32m     61\u001b[0m             \u001b[0mextra_args\u001b[0m \u001b[0;34m=\u001b[0m \u001b[0mlen\u001b[0m\u001b[0;34m(\u001b[0m\u001b[0margs\u001b[0m\u001b[0;34m)\u001b[0m \u001b[0;34m-\u001b[0m \u001b[0mlen\u001b[0m\u001b[0;34m(\u001b[0m\u001b[0mall_args\u001b[0m\u001b[0;34m)\u001b[0m\u001b[0;34m\u001b[0m\u001b[0;34m\u001b[0m\u001b[0m\n\u001b[1;32m     62\u001b[0m             \u001b[0;32mif\u001b[0m \u001b[0mextra_args\u001b[0m \u001b[0;34m<=\u001b[0m \u001b[0;36m0\u001b[0m\u001b[0;34m:\u001b[0m\u001b[0;34m\u001b[0m\u001b[0;34m\u001b[0m\u001b[0m\n\u001b[0;32m---> 63\u001b[0;31m                 \u001b[0;32mreturn\u001b[0m \u001b[0mf\u001b[0m\u001b[0;34m(\u001b[0m\u001b[0;34m*\u001b[0m\u001b[0margs\u001b[0m\u001b[0;34m,\u001b[0m \u001b[0;34m**\u001b[0m\u001b[0mkwargs\u001b[0m\u001b[0;34m)\u001b[0m\u001b[0;34m\u001b[0m\u001b[0;34m\u001b[0m\u001b[0m\n\u001b[0m\u001b[1;32m     64\u001b[0m \u001b[0;34m\u001b[0m\u001b[0m\n\u001b[1;32m     65\u001b[0m             \u001b[0;31m# extra_args > 0\u001b[0m\u001b[0;34m\u001b[0m\u001b[0;34m\u001b[0m\u001b[0;34m\u001b[0m\u001b[0m\n",
      "\u001b[0;32m~/anaconda3/envs/loka_review/lib/python3.7/site-packages/sklearn/model_selection/_search.py\u001b[0m in \u001b[0;36mfit\u001b[0;34m(self, X, y, groups, **fit_params)\u001b[0m\n\u001b[1;32m    839\u001b[0m                 \u001b[0;32mreturn\u001b[0m \u001b[0mresults\u001b[0m\u001b[0;34m\u001b[0m\u001b[0;34m\u001b[0m\u001b[0m\n\u001b[1;32m    840\u001b[0m \u001b[0;34m\u001b[0m\u001b[0m\n\u001b[0;32m--> 841\u001b[0;31m             \u001b[0mself\u001b[0m\u001b[0;34m.\u001b[0m\u001b[0m_run_search\u001b[0m\u001b[0;34m(\u001b[0m\u001b[0mevaluate_candidates\u001b[0m\u001b[0;34m)\u001b[0m\u001b[0;34m\u001b[0m\u001b[0;34m\u001b[0m\u001b[0m\n\u001b[0m\u001b[1;32m    842\u001b[0m \u001b[0;34m\u001b[0m\u001b[0m\n\u001b[1;32m    843\u001b[0m             \u001b[0;31m# multimetric is determined here because in the case of a callable\u001b[0m\u001b[0;34m\u001b[0m\u001b[0;34m\u001b[0m\u001b[0;34m\u001b[0m\u001b[0m\n",
      "\u001b[0;32m~/anaconda3/envs/loka_review/lib/python3.7/site-packages/sklearn/model_selection/_search.py\u001b[0m in \u001b[0;36m_run_search\u001b[0;34m(self, evaluate_candidates)\u001b[0m\n\u001b[1;32m   1286\u001b[0m     \u001b[0;32mdef\u001b[0m \u001b[0m_run_search\u001b[0m\u001b[0;34m(\u001b[0m\u001b[0mself\u001b[0m\u001b[0;34m,\u001b[0m \u001b[0mevaluate_candidates\u001b[0m\u001b[0;34m)\u001b[0m\u001b[0;34m:\u001b[0m\u001b[0;34m\u001b[0m\u001b[0;34m\u001b[0m\u001b[0m\n\u001b[1;32m   1287\u001b[0m         \u001b[0;34m\"\"\"Search all candidates in param_grid\"\"\"\u001b[0m\u001b[0;34m\u001b[0m\u001b[0;34m\u001b[0m\u001b[0m\n\u001b[0;32m-> 1288\u001b[0;31m         \u001b[0mevaluate_candidates\u001b[0m\u001b[0;34m(\u001b[0m\u001b[0mParameterGrid\u001b[0m\u001b[0;34m(\u001b[0m\u001b[0mself\u001b[0m\u001b[0;34m.\u001b[0m\u001b[0mparam_grid\u001b[0m\u001b[0;34m)\u001b[0m\u001b[0;34m)\u001b[0m\u001b[0;34m\u001b[0m\u001b[0;34m\u001b[0m\u001b[0m\n\u001b[0m\u001b[1;32m   1289\u001b[0m \u001b[0;34m\u001b[0m\u001b[0m\n\u001b[1;32m   1290\u001b[0m \u001b[0;34m\u001b[0m\u001b[0m\n",
      "\u001b[0;32m~/anaconda3/envs/loka_review/lib/python3.7/site-packages/sklearn/model_selection/_search.py\u001b[0m in \u001b[0;36mevaluate_candidates\u001b[0;34m(candidate_params, cv, more_results)\u001b[0m\n\u001b[1;32m    807\u001b[0m                                    (split_idx, (train, test)) in product(\n\u001b[1;32m    808\u001b[0m                                    \u001b[0menumerate\u001b[0m\u001b[0;34m(\u001b[0m\u001b[0mcandidate_params\u001b[0m\u001b[0;34m)\u001b[0m\u001b[0;34m,\u001b[0m\u001b[0;34m\u001b[0m\u001b[0;34m\u001b[0m\u001b[0m\n\u001b[0;32m--> 809\u001b[0;31m                                    enumerate(cv.split(X, y, groups))))\n\u001b[0m\u001b[1;32m    810\u001b[0m \u001b[0;34m\u001b[0m\u001b[0m\n\u001b[1;32m    811\u001b[0m                 \u001b[0;32mif\u001b[0m \u001b[0mlen\u001b[0m\u001b[0;34m(\u001b[0m\u001b[0mout\u001b[0m\u001b[0;34m)\u001b[0m \u001b[0;34m<\u001b[0m \u001b[0;36m1\u001b[0m\u001b[0;34m:\u001b[0m\u001b[0;34m\u001b[0m\u001b[0;34m\u001b[0m\u001b[0m\n",
      "\u001b[0;32m~/anaconda3/envs/loka_review/lib/python3.7/site-packages/joblib/parallel.py\u001b[0m in \u001b[0;36m__call__\u001b[0;34m(self, iterable)\u001b[0m\n\u001b[1;32m   1052\u001b[0m \u001b[0;34m\u001b[0m\u001b[0m\n\u001b[1;32m   1053\u001b[0m             \u001b[0;32mwith\u001b[0m \u001b[0mself\u001b[0m\u001b[0;34m.\u001b[0m\u001b[0m_backend\u001b[0m\u001b[0;34m.\u001b[0m\u001b[0mretrieval_context\u001b[0m\u001b[0;34m(\u001b[0m\u001b[0;34m)\u001b[0m\u001b[0;34m:\u001b[0m\u001b[0;34m\u001b[0m\u001b[0;34m\u001b[0m\u001b[0m\n\u001b[0;32m-> 1054\u001b[0;31m                 \u001b[0mself\u001b[0m\u001b[0;34m.\u001b[0m\u001b[0mretrieve\u001b[0m\u001b[0;34m(\u001b[0m\u001b[0;34m)\u001b[0m\u001b[0;34m\u001b[0m\u001b[0;34m\u001b[0m\u001b[0m\n\u001b[0m\u001b[1;32m   1055\u001b[0m             \u001b[0;31m# Make sure that we get a last message telling us we are done\u001b[0m\u001b[0;34m\u001b[0m\u001b[0;34m\u001b[0m\u001b[0;34m\u001b[0m\u001b[0m\n\u001b[1;32m   1056\u001b[0m             \u001b[0melapsed_time\u001b[0m \u001b[0;34m=\u001b[0m \u001b[0mtime\u001b[0m\u001b[0;34m.\u001b[0m\u001b[0mtime\u001b[0m\u001b[0;34m(\u001b[0m\u001b[0;34m)\u001b[0m \u001b[0;34m-\u001b[0m \u001b[0mself\u001b[0m\u001b[0;34m.\u001b[0m\u001b[0m_start_time\u001b[0m\u001b[0;34m\u001b[0m\u001b[0;34m\u001b[0m\u001b[0m\n",
      "\u001b[0;32m~/anaconda3/envs/loka_review/lib/python3.7/site-packages/joblib/parallel.py\u001b[0m in \u001b[0;36mretrieve\u001b[0;34m(self)\u001b[0m\n\u001b[1;32m    931\u001b[0m             \u001b[0;32mtry\u001b[0m\u001b[0;34m:\u001b[0m\u001b[0;34m\u001b[0m\u001b[0;34m\u001b[0m\u001b[0m\n\u001b[1;32m    932\u001b[0m                 \u001b[0;32mif\u001b[0m \u001b[0mgetattr\u001b[0m\u001b[0;34m(\u001b[0m\u001b[0mself\u001b[0m\u001b[0;34m.\u001b[0m\u001b[0m_backend\u001b[0m\u001b[0;34m,\u001b[0m \u001b[0;34m'supports_timeout'\u001b[0m\u001b[0;34m,\u001b[0m \u001b[0;32mFalse\u001b[0m\u001b[0;34m)\u001b[0m\u001b[0;34m:\u001b[0m\u001b[0;34m\u001b[0m\u001b[0;34m\u001b[0m\u001b[0m\n\u001b[0;32m--> 933\u001b[0;31m                     \u001b[0mself\u001b[0m\u001b[0;34m.\u001b[0m\u001b[0m_output\u001b[0m\u001b[0;34m.\u001b[0m\u001b[0mextend\u001b[0m\u001b[0;34m(\u001b[0m\u001b[0mjob\u001b[0m\u001b[0;34m.\u001b[0m\u001b[0mget\u001b[0m\u001b[0;34m(\u001b[0m\u001b[0mtimeout\u001b[0m\u001b[0;34m=\u001b[0m\u001b[0mself\u001b[0m\u001b[0;34m.\u001b[0m\u001b[0mtimeout\u001b[0m\u001b[0;34m)\u001b[0m\u001b[0;34m)\u001b[0m\u001b[0;34m\u001b[0m\u001b[0;34m\u001b[0m\u001b[0m\n\u001b[0m\u001b[1;32m    934\u001b[0m                 \u001b[0;32melse\u001b[0m\u001b[0;34m:\u001b[0m\u001b[0;34m\u001b[0m\u001b[0;34m\u001b[0m\u001b[0m\n\u001b[1;32m    935\u001b[0m                     \u001b[0mself\u001b[0m\u001b[0;34m.\u001b[0m\u001b[0m_output\u001b[0m\u001b[0;34m.\u001b[0m\u001b[0mextend\u001b[0m\u001b[0;34m(\u001b[0m\u001b[0mjob\u001b[0m\u001b[0;34m.\u001b[0m\u001b[0mget\u001b[0m\u001b[0;34m(\u001b[0m\u001b[0;34m)\u001b[0m\u001b[0;34m)\u001b[0m\u001b[0;34m\u001b[0m\u001b[0;34m\u001b[0m\u001b[0m\n",
      "\u001b[0;32m~/anaconda3/envs/loka_review/lib/python3.7/site-packages/joblib/_parallel_backends.py\u001b[0m in \u001b[0;36mwrap_future_result\u001b[0;34m(future, timeout)\u001b[0m\n\u001b[1;32m    540\u001b[0m         AsyncResults.get from multiprocessing.\"\"\"\n\u001b[1;32m    541\u001b[0m         \u001b[0;32mtry\u001b[0m\u001b[0;34m:\u001b[0m\u001b[0;34m\u001b[0m\u001b[0;34m\u001b[0m\u001b[0m\n\u001b[0;32m--> 542\u001b[0;31m             \u001b[0;32mreturn\u001b[0m \u001b[0mfuture\u001b[0m\u001b[0;34m.\u001b[0m\u001b[0mresult\u001b[0m\u001b[0;34m(\u001b[0m\u001b[0mtimeout\u001b[0m\u001b[0;34m=\u001b[0m\u001b[0mtimeout\u001b[0m\u001b[0;34m)\u001b[0m\u001b[0;34m\u001b[0m\u001b[0;34m\u001b[0m\u001b[0m\n\u001b[0m\u001b[1;32m    543\u001b[0m         \u001b[0;32mexcept\u001b[0m \u001b[0mCfTimeoutError\u001b[0m \u001b[0;32mas\u001b[0m \u001b[0me\u001b[0m\u001b[0;34m:\u001b[0m\u001b[0;34m\u001b[0m\u001b[0;34m\u001b[0m\u001b[0m\n\u001b[1;32m    544\u001b[0m             \u001b[0;32mraise\u001b[0m \u001b[0mTimeoutError\u001b[0m \u001b[0;32mfrom\u001b[0m \u001b[0me\u001b[0m\u001b[0;34m\u001b[0m\u001b[0;34m\u001b[0m\u001b[0m\n",
      "\u001b[0;32m~/anaconda3/envs/loka_review/lib/python3.7/concurrent/futures/_base.py\u001b[0m in \u001b[0;36mresult\u001b[0;34m(self, timeout)\u001b[0m\n\u001b[1;32m    428\u001b[0m                 \u001b[0;32mreturn\u001b[0m \u001b[0mself\u001b[0m\u001b[0;34m.\u001b[0m\u001b[0m__get_result\u001b[0m\u001b[0;34m(\u001b[0m\u001b[0;34m)\u001b[0m\u001b[0;34m\u001b[0m\u001b[0;34m\u001b[0m\u001b[0m\n\u001b[1;32m    429\u001b[0m \u001b[0;34m\u001b[0m\u001b[0m\n\u001b[0;32m--> 430\u001b[0;31m             \u001b[0mself\u001b[0m\u001b[0;34m.\u001b[0m\u001b[0m_condition\u001b[0m\u001b[0;34m.\u001b[0m\u001b[0mwait\u001b[0m\u001b[0;34m(\u001b[0m\u001b[0mtimeout\u001b[0m\u001b[0;34m)\u001b[0m\u001b[0;34m\u001b[0m\u001b[0;34m\u001b[0m\u001b[0m\n\u001b[0m\u001b[1;32m    431\u001b[0m \u001b[0;34m\u001b[0m\u001b[0m\n\u001b[1;32m    432\u001b[0m             \u001b[0;32mif\u001b[0m \u001b[0mself\u001b[0m\u001b[0;34m.\u001b[0m\u001b[0m_state\u001b[0m \u001b[0;32min\u001b[0m \u001b[0;34m[\u001b[0m\u001b[0mCANCELLED\u001b[0m\u001b[0;34m,\u001b[0m \u001b[0mCANCELLED_AND_NOTIFIED\u001b[0m\u001b[0;34m]\u001b[0m\u001b[0;34m:\u001b[0m\u001b[0;34m\u001b[0m\u001b[0;34m\u001b[0m\u001b[0m\n",
      "\u001b[0;32m~/anaconda3/envs/loka_review/lib/python3.7/threading.py\u001b[0m in \u001b[0;36mwait\u001b[0;34m(self, timeout)\u001b[0m\n\u001b[1;32m    294\u001b[0m         \u001b[0;32mtry\u001b[0m\u001b[0;34m:\u001b[0m    \u001b[0;31m# restore state no matter what (e.g., KeyboardInterrupt)\u001b[0m\u001b[0;34m\u001b[0m\u001b[0;34m\u001b[0m\u001b[0m\n\u001b[1;32m    295\u001b[0m             \u001b[0;32mif\u001b[0m \u001b[0mtimeout\u001b[0m \u001b[0;32mis\u001b[0m \u001b[0;32mNone\u001b[0m\u001b[0;34m:\u001b[0m\u001b[0;34m\u001b[0m\u001b[0;34m\u001b[0m\u001b[0m\n\u001b[0;32m--> 296\u001b[0;31m                 \u001b[0mwaiter\u001b[0m\u001b[0;34m.\u001b[0m\u001b[0macquire\u001b[0m\u001b[0;34m(\u001b[0m\u001b[0;34m)\u001b[0m\u001b[0;34m\u001b[0m\u001b[0;34m\u001b[0m\u001b[0m\n\u001b[0m\u001b[1;32m    297\u001b[0m                 \u001b[0mgotit\u001b[0m \u001b[0;34m=\u001b[0m \u001b[0;32mTrue\u001b[0m\u001b[0;34m\u001b[0m\u001b[0;34m\u001b[0m\u001b[0m\n\u001b[1;32m    298\u001b[0m             \u001b[0;32melse\u001b[0m\u001b[0;34m:\u001b[0m\u001b[0;34m\u001b[0m\u001b[0;34m\u001b[0m\u001b[0m\n",
      "\u001b[0;31mKeyboardInterrupt\u001b[0m: "
     ]
    }
   ],
   "source": [
    "xgb = GridSearchCV(my_pipeline_XG, parameters_XG, n_jobs=-1)\n",
    "xgb.fit(X_train, y_train)\n",
    "xgb.best_params_"
   ]
  },
  {
   "cell_type": "code",
   "execution_count": 7,
   "id": "chemical-compound",
   "metadata": {
    "collapsed": true
   },
   "outputs": [
    {
     "name": "stderr",
     "output_type": "stream",
     "text": [
      "C:\\Users\\Bonnana\\Anaconda3\\envs\\thesis\\lib\\site-packages\\xgboost\\sklearn.py:888: UserWarning: The use of label encoder in XGBClassifier is deprecated and will be removed in a future release. To remove this warning, do the following: 1) Pass option use_label_encoder=False when constructing XGBClassifier object; and 2) Encode your labels (y) as integers starting with 0, i.e. 0, 1, 2, ..., [num_class - 1].\n",
      "  warnings.warn(label_encoder_deprecation_msg, UserWarning)\n"
     ]
    },
    {
     "name": "stdout",
     "output_type": "stream",
     "text": [
      "[14:02:49] WARNING: C:/Users/Administrator/workspace/xgboost-win64_release_1.3.0/src/learner.cc:1061: Starting in XGBoost 1.3.0, the default evaluation metric used with the objective 'binary:logistic' was changed from 'error' to 'logloss'. Explicitly set eval_metric if you'd like to restore the old behavior.\n"
     ]
    },
    {
     "data": {
      "text/plain": [
       "XGBClassifier(base_score=0.5, booster='gbtree', colsample_bylevel=1,\n",
       "              colsample_bynode=1, colsample_bytree=1, gamma=0, gpu_id=-1,\n",
       "              importance_type='gain', interaction_constraints='',\n",
       "              learning_rate=0.02, max_delta_step=0, max_depth=6,\n",
       "              min_child_weight=1, missing=nan, monotone_constraints='()',\n",
       "              n_estimators=1000, n_jobs=4, num_parallel_tree=1, random_state=42,\n",
       "              reg_alpha=0, reg_lambda=1, scale_pos_weight=1, subsample=1,\n",
       "              tree_method='exact', validate_parameters=1, verbosity=None)"
      ]
     },
     "execution_count": 7,
     "metadata": {},
     "output_type": "execute_result"
    }
   ],
   "source": [
    "# fit model with best parameters\n",
    "xgb_model = XGBClassifier(random_state=42,learning_rate=0.02, n_estimators=1000)\n",
    "xgb_model.fit(X_train, y_train)"
   ]
  },
  {
   "cell_type": "code",
   "execution_count": 8,
   "id": "higher-evidence",
   "metadata": {},
   "outputs": [
    {
     "name": "stdout",
     "output_type": "stream",
     "text": [
      "Model test accuracy: 82.500%\n"
     ]
    }
   ],
   "source": [
    "# model acccuracy\n",
    "print(f'Model test accuracy: {xgb_model.score(X_test, y_test)*100:.3f}%')"
   ]
  },
  {
   "cell_type": "code",
   "execution_count": 144,
   "id": "intimate-peripheral",
   "metadata": {},
   "outputs": [
    {
     "data": {
      "image/png": "[encoded data removed]",
      "text/plain": [
       "<Figure size 720x432 with 2 Axes>"
      ]
     },
     "metadata": {},
     "output_type": "display_data"
    }
   ],
   "source": [
    "# confusion matrix\n",
    "predictions_xgb = xgb_model.predict(X_test)\n",
    "confusion_plot(predictions_xgb)"
   ]
  },
  {
   "cell_type": "code",
   "execution_count": 11,
   "id": "changing-railway",
   "metadata": {},
   "outputs": [],
   "source": [
    "# save XGBClassifier model\n",
    "filename = 'models/xgb_model.sav'\n",
    "pickle.dump(xgb_model, open(filename, 'wb'))\n",
    "# xgb_model.save_model('models/xgb_model.model')"
   ]
  },
  {
   "cell_type": "markdown",
   "id": "3080bec6",
   "metadata": {},
   "source": [
    "### Logistic Regression on Vectorized Data"
   ]
  },
  {
   "cell_type": "code",
   "execution_count": 3,
   "id": "permanent-gambling",
   "metadata": {
    "scrolled": false
   },
   "outputs": [
    {
     "data": {
      "text/html": [
       "<div>\n",
       "<style scoped>\n",
       "    .dataframe tbody tr th:only-of-type {\n",
       "        vertical-align: middle;\n",
       "    }\n",
       "\n",
       "    .dataframe tbody tr th {\n",
       "        vertical-align: top;\n",
       "    }\n",
       "\n",
       "    .dataframe thead th {\n",
       "        text-align: right;\n",
       "    }\n",
       "</style>\n",
       "<table border=\"1\" class=\"dataframe\">\n",
       "  <thead>\n",
       "    <tr style=\"text-align: right;\">\n",
       "      <th></th>\n",
       "      <th>0</th>\n",
       "      <th>1</th>\n",
       "      <th>2</th>\n",
       "      <th>3</th>\n",
       "      <th>4</th>\n",
       "      <th>5</th>\n",
       "      <th>6</th>\n",
       "      <th>7</th>\n",
       "      <th>8</th>\n",
       "      <th>9</th>\n",
       "      <th>...</th>\n",
       "      <th>291</th>\n",
       "      <th>292</th>\n",
       "      <th>293</th>\n",
       "      <th>294</th>\n",
       "      <th>295</th>\n",
       "      <th>296</th>\n",
       "      <th>297</th>\n",
       "      <th>298</th>\n",
       "      <th>299</th>\n",
       "      <th>y</th>\n",
       "    </tr>\n",
       "  </thead>\n",
       "  <tbody>\n",
       "    <tr>\n",
       "      <th>0</th>\n",
       "      <td>-0.112187</td>\n",
       "      <td>-0.100663</td>\n",
       "      <td>0.157640</td>\n",
       "      <td>-0.158397</td>\n",
       "      <td>0.027242</td>\n",
       "      <td>0.205997</td>\n",
       "      <td>-0.060770</td>\n",
       "      <td>-0.126120</td>\n",
       "      <td>-0.010197</td>\n",
       "      <td>1.938914</td>\n",
       "      <td>...</td>\n",
       "      <td>0.168101</td>\n",
       "      <td>-0.145711</td>\n",
       "      <td>-0.057940</td>\n",
       "      <td>0.036196</td>\n",
       "      <td>0.005334</td>\n",
       "      <td>-0.155556</td>\n",
       "      <td>-0.088095</td>\n",
       "      <td>0.053760</td>\n",
       "      <td>-0.105121</td>\n",
       "      <td>0</td>\n",
       "    </tr>\n",
       "    <tr>\n",
       "      <th>1</th>\n",
       "      <td>0.050178</td>\n",
       "      <td>0.075225</td>\n",
       "      <td>-0.081901</td>\n",
       "      <td>-0.156637</td>\n",
       "      <td>0.309195</td>\n",
       "      <td>0.138448</td>\n",
       "      <td>0.097845</td>\n",
       "      <td>-0.196484</td>\n",
       "      <td>-0.112587</td>\n",
       "      <td>1.904721</td>\n",
       "      <td>...</td>\n",
       "      <td>0.024540</td>\n",
       "      <td>-0.061007</td>\n",
       "      <td>0.080689</td>\n",
       "      <td>-0.044674</td>\n",
       "      <td>-0.041743</td>\n",
       "      <td>0.149788</td>\n",
       "      <td>-0.144391</td>\n",
       "      <td>0.001133</td>\n",
       "      <td>0.099821</td>\n",
       "      <td>1</td>\n",
       "    </tr>\n",
       "    <tr>\n",
       "      <th>2</th>\n",
       "      <td>-0.014288</td>\n",
       "      <td>0.281363</td>\n",
       "      <td>0.008330</td>\n",
       "      <td>-0.079762</td>\n",
       "      <td>0.136387</td>\n",
       "      <td>0.115963</td>\n",
       "      <td>0.188574</td>\n",
       "      <td>-0.199307</td>\n",
       "      <td>0.059242</td>\n",
       "      <td>2.212164</td>\n",
       "      <td>...</td>\n",
       "      <td>0.001395</td>\n",
       "      <td>0.208336</td>\n",
       "      <td>0.063314</td>\n",
       "      <td>0.063109</td>\n",
       "      <td>0.012527</td>\n",
       "      <td>0.202568</td>\n",
       "      <td>0.060613</td>\n",
       "      <td>-0.041538</td>\n",
       "      <td>0.000968</td>\n",
       "      <td>0</td>\n",
       "    </tr>\n",
       "    <tr>\n",
       "      <th>3</th>\n",
       "      <td>-0.059194</td>\n",
       "      <td>0.202854</td>\n",
       "      <td>-0.181835</td>\n",
       "      <td>-0.101376</td>\n",
       "      <td>0.071907</td>\n",
       "      <td>0.070034</td>\n",
       "      <td>0.096419</td>\n",
       "      <td>-0.221772</td>\n",
       "      <td>0.060945</td>\n",
       "      <td>2.344045</td>\n",
       "      <td>...</td>\n",
       "      <td>0.090762</td>\n",
       "      <td>-0.147289</td>\n",
       "      <td>-0.047359</td>\n",
       "      <td>0.033544</td>\n",
       "      <td>0.048062</td>\n",
       "      <td>-0.039295</td>\n",
       "      <td>-0.086601</td>\n",
       "      <td>0.074375</td>\n",
       "      <td>0.093446</td>\n",
       "      <td>0</td>\n",
       "    </tr>\n",
       "    <tr>\n",
       "      <th>4</th>\n",
       "      <td>0.038611</td>\n",
       "      <td>0.196760</td>\n",
       "      <td>-0.046412</td>\n",
       "      <td>-0.069246</td>\n",
       "      <td>0.186514</td>\n",
       "      <td>0.100383</td>\n",
       "      <td>0.068199</td>\n",
       "      <td>-0.216013</td>\n",
       "      <td>0.034067</td>\n",
       "      <td>2.568400</td>\n",
       "      <td>...</td>\n",
       "      <td>0.083787</td>\n",
       "      <td>0.021050</td>\n",
       "      <td>0.003260</td>\n",
       "      <td>0.148554</td>\n",
       "      <td>-0.067018</td>\n",
       "      <td>0.084592</td>\n",
       "      <td>0.028033</td>\n",
       "      <td>0.063388</td>\n",
       "      <td>0.050162</td>\n",
       "      <td>1</td>\n",
       "    </tr>\n",
       "  </tbody>\n",
       "</table>\n",
       "<p>5 rows × 301 columns</p>\n",
       "</div>"
      ],
      "text/plain": [
       "          0         1         2         3         4         5         6  \\\n",
       "0 -0.112187 -0.100663  0.157640 -0.158397  0.027242  0.205997 -0.060770   \n",
       "1  0.050178  0.075225 -0.081901 -0.156637  0.309195  0.138448  0.097845   \n",
       "2 -0.014288  0.281363  0.008330 -0.079762  0.136387  0.115963  0.188574   \n",
       "3 -0.059194  0.202854 -0.181835 -0.101376  0.071907  0.070034  0.096419   \n",
       "4  0.038611  0.196760 -0.046412 -0.069246  0.186514  0.100383  0.068199   \n",
       "\n",
       "          7         8         9  ...       291       292       293       294  \\\n",
       "0 -0.126120 -0.010197  1.938914  ...  0.168101 -0.145711 -0.057940  0.036196   \n",
       "1 -0.196484 -0.112587  1.904721  ...  0.024540 -0.061007  0.080689 -0.044674   \n",
       "2 -0.199307  0.059242  2.212164  ...  0.001395  0.208336  0.063314  0.063109   \n",
       "3 -0.221772  0.060945  2.344045  ...  0.090762 -0.147289 -0.047359  0.033544   \n",
       "4 -0.216013  0.034067  2.568400  ...  0.083787  0.021050  0.003260  0.148554   \n",
       "\n",
       "        295       296       297       298       299  y  \n",
       "0  0.005334 -0.155556 -0.088095  0.053760 -0.105121  0  \n",
       "1 -0.041743  0.149788 -0.144391  0.001133  0.099821  1  \n",
       "2  0.012527  0.202568  0.060613 -0.041538  0.000968  0  \n",
       "3  0.048062 -0.039295 -0.086601  0.074375  0.093446  0  \n",
       "4 -0.067018  0.084592  0.028033  0.063388  0.050162  1  \n",
       "\n",
       "[5 rows x 301 columns]"
      ]
     },
     "execution_count": 3,
     "metadata": {},
     "output_type": "execute_result"
    }
   ],
   "source": [
    "from sklearn.linear_model import LogisticRegression\n",
    "\n",
    "train = pd.read_csv('datasets/train.csv')\n",
    "test = pd.read_csv('datasets/test.csv')\n",
    "\n",
    "train.head()"
   ]
  },
  {
   "cell_type": "markdown",
   "id": "e21e8f53",
   "metadata": {},
   "source": [
    "On the plot below we are showing only one of the 300 columns (features) that are created by the NLP algorithm. It seems that logistic regression might do the job..\n",
    "We will proceed anyway"
   ]
  },
  {
   "cell_type": "code",
   "execution_count": 4,
   "id": "43545691",
   "metadata": {
    "scrolled": true
   },
   "outputs": [
    {
     "data": {
      "image/png": "[encoded data removed]",
      "text/plain": [
       "<Figure size 432x288 with 1 Axes>"
      ]
     },
     "metadata": {},
     "output_type": "display_data"
    }
   ],
   "source": [
    "plt.scatter(train.iloc[:, 4], train['y'])\n",
    "plt.title('One of the attributes plotted on y')\n",
    "plt.show()"
   ]
  },
  {
   "cell_type": "markdown",
   "id": "ad0dac16",
   "metadata": {},
   "source": [
    "We train the model using all 300 columns (features). We use 'y' as the prediction and train it with the help of sklearn."
   ]
  },
  {
   "cell_type": "code",
   "execution_count": 5,
   "id": "a5327b98",
   "metadata": {
    "scrolled": true
   },
   "outputs": [
    {
     "data": {
      "text/plain": [
       "LogisticRegression()"
      ]
     },
     "execution_count": 5,
     "metadata": {},
     "output_type": "execute_result"
    }
   ],
   "source": [
    "X_train = train.iloc[:, 0:300]   # leave the last column out, which is 'y'\n",
    "y_train = train['y']\n",
    "\n",
    "logit_model = LogisticRegression()\n",
    "logit_model.fit(X_train, y_train)"
   ]
  },
  {
   "cell_type": "markdown",
   "id": "fce4662d",
   "metadata": {},
   "source": [
    "After training we try to process the test data and see how the model does. It shows in the cell below 84.5% accuracy, but since I feel a little sceptical about it, I will analyze the model further before feeding in a real sentence."
   ]
  },
  {
   "cell_type": "code",
   "execution_count": 6,
   "id": "c5be8b29",
   "metadata": {},
   "outputs": [
    {
     "name": "stdout",
     "output_type": "stream",
     "text": [
      "84.5%\n"
     ]
    }
   ],
   "source": [
    "X_test = test.iloc[:, 0:300]\n",
    "y_test = test['y']\n",
    "score = logit_model.score(X_test, y_test)\n",
    "\n",
    "print(f'{score * 100}%')"
   ]
  },
  {
   "cell_type": "code",
   "execution_count": 7,
   "id": "733dc7fb",
   "metadata": {
    "scrolled": true
   },
   "outputs": [
    {
     "data": {
      "text/plain": [
       "{'C': 1.0,\n",
       " 'class_weight': None,\n",
       " 'dual': False,\n",
       " 'fit_intercept': True,\n",
       " 'intercept_scaling': 1,\n",
       " 'l1_ratio': None,\n",
       " 'max_iter': 100,\n",
       " 'multi_class': 'auto',\n",
       " 'n_jobs': None,\n",
       " 'penalty': 'l2',\n",
       " 'random_state': None,\n",
       " 'solver': 'lbfgs',\n",
       " 'tol': 0.0001,\n",
       " 'verbose': 0,\n",
       " 'warm_start': False}"
      ]
     },
     "execution_count": 7,
     "metadata": {},
     "output_type": "execute_result"
    }
   ],
   "source": [
    "logit_model.get_params()"
   ]
  },
  {
   "cell_type": "markdown",
   "id": "ae729d45",
   "metadata": {},
   "source": [
    "We will try to parse a sentence by firstly converting it to a vector and feeding it into the logistic model"
   ]
  },
  {
   "cell_type": "code",
   "execution_count": 8,
   "id": "7729d57c",
   "metadata": {},
   "outputs": [],
   "source": [
    "import spacy\n",
    "\n",
    "sentence_one = 'This restaurant is amazing. I love the food.'\n",
    "sentence_two = 'I absolutely hate this place. The food is terrible.'\n",
    "\n",
    "def vectorizer(text):\n",
    "    with nlp.disable_pipes():\n",
    "        vector = np.array(nlp(text).vector)\n",
    "    return vector\n",
    "\n",
    "nlp = spacy.load(\"en_core_web_lg\")"
   ]
  },
  {
   "cell_type": "markdown",
   "id": "ea5609f1",
   "metadata": {},
   "source": [
    "It seems that the model is doing a good job by predicting the first sentence as a positive and the latter as a negative review."
   ]
  },
  {
   "cell_type": "code",
   "execution_count": 9,
   "id": "cf665646",
   "metadata": {
    "scrolled": true
   },
   "outputs": [
    {
     "name": "stdout",
     "output_type": "stream",
     "text": [
      "The results from predicting are: [1] and [0]\n"
     ]
    }
   ],
   "source": [
    "good_review = pd.DataFrame(vectorizer(sentence_one).reshape(1,-1))\n",
    "bad_review = pd.DataFrame(vectorizer(sentence_two).reshape(1,-1))\n",
    "\n",
    "res1 = logit_model.predict(good_review)\n",
    "res2 = logit_model.predict(bad_review)\n",
    "\n",
    "print(f'The results from predicting are: {res1} and {res2}')"
   ]
  },
  {
   "cell_type": "markdown",
   "id": "632c1cda",
   "metadata": {},
   "source": [
    "Let's print out the probabilities"
   ]
  },
  {
   "cell_type": "code",
   "execution_count": 10,
   "id": "16529090",
   "metadata": {},
   "outputs": [
    {
     "name": "stdout",
     "output_type": "stream",
     "text": [
      "Negative probability: 1.43%\n",
      "Positive probability: 98.57%\n",
      "\n",
      "Negative probability: 82.36%\n",
      "Positive probability: 17.64%\n"
     ]
    }
   ],
   "source": [
    "good_prob = logit_model.predict_proba(good_review)\n",
    "bad_prob = logit_model.predict_proba(bad_review)\n",
    "\n",
    "def print_prob(arr):\n",
    "    print(f'Negative probability: {round(arr[0][0]*100, 2)}%')\n",
    "    print(f'Positive probability: {round(arr[0][1]*100, 2)}%')\n",
    "    \n",
    "print_prob(good_prob)\n",
    "print()\n",
    "print_prob(bad_prob)"
   ]
  }
 ],
 "metadata": {
  "kernelspec": {
   "display_name": "Python 3",
   "language": "python",
   "name": "python3"
  },
  "language_info": {
   "codemirror_mode": {
    "name": "ipython",
    "version": 3
   },
   "file_extension": ".py",
   "mimetype": "text/x-python",
   "name": "python",
   "nbconvert_exporter": "python",
   "pygments_lexer": "ipython3",
   "version": "3.7.10"
  }
 },
 "nbformat": 4,
 "nbformat_minor": 5
}
